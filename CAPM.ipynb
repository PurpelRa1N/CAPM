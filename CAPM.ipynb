{
 "cells": [
  {
   "cell_type": "code",
   "execution_count": 1,
   "id": "8bd8b9b7",
   "metadata": {},
   "outputs": [],
   "source": [
    "import pandas as pd \n",
    "import numpy as np \n",
    "from scipy import stats"
   ]
  },
  {
   "cell_type": "code",
   "execution_count": 4,
   "id": "62c3ae8d",
   "metadata": {},
   "outputs": [],
   "source": [
    "import pandas_datareader as web "
   ]
  },
  {
   "cell_type": "code",
   "execution_count": 24,
   "id": "feec7668",
   "metadata": {},
   "outputs": [],
   "source": [
    "spy_etf = web.DataReader('SPY', 'yahoo', start, end)"
   ]
  },
  {
   "cell_type": "code",
   "execution_count": 26,
   "id": "be6c8066",
   "metadata": {},
   "outputs": [
    {
     "data": {
      "text/html": [
       "<div>\n",
       "<style scoped>\n",
       "    .dataframe tbody tr th:only-of-type {\n",
       "        vertical-align: middle;\n",
       "    }\n",
       "\n",
       "    .dataframe tbody tr th {\n",
       "        vertical-align: top;\n",
       "    }\n",
       "\n",
       "    .dataframe thead th {\n",
       "        text-align: right;\n",
       "    }\n",
       "</style>\n",
       "<table border=\"1\" class=\"dataframe\">\n",
       "  <thead>\n",
       "    <tr style=\"text-align: right;\">\n",
       "      <th></th>\n",
       "      <th>High</th>\n",
       "      <th>Low</th>\n",
       "      <th>Open</th>\n",
       "      <th>Close</th>\n",
       "      <th>Volume</th>\n",
       "      <th>Adj Close</th>\n",
       "    </tr>\n",
       "    <tr>\n",
       "      <th>Date</th>\n",
       "      <th></th>\n",
       "      <th></th>\n",
       "      <th></th>\n",
       "      <th></th>\n",
       "      <th></th>\n",
       "      <th></th>\n",
       "    </tr>\n",
       "  </thead>\n",
       "  <tbody>\n",
       "    <tr>\n",
       "      <th>2017-01-17</th>\n",
       "      <td>226.779999</td>\n",
       "      <td>225.800003</td>\n",
       "      <td>226.309998</td>\n",
       "      <td>226.250000</td>\n",
       "      <td>61240800.0</td>\n",
       "      <td>207.071930</td>\n",
       "    </tr>\n",
       "    <tr>\n",
       "      <th>2017-01-18</th>\n",
       "      <td>226.800003</td>\n",
       "      <td>225.899994</td>\n",
       "      <td>226.539993</td>\n",
       "      <td>226.750000</td>\n",
       "      <td>54793300.0</td>\n",
       "      <td>207.529510</td>\n",
       "    </tr>\n",
       "    <tr>\n",
       "      <th>2017-01-19</th>\n",
       "      <td>227.000000</td>\n",
       "      <td>225.410004</td>\n",
       "      <td>226.839996</td>\n",
       "      <td>225.910004</td>\n",
       "      <td>66608800.0</td>\n",
       "      <td>206.760742</td>\n",
       "    </tr>\n",
       "    <tr>\n",
       "      <th>2017-01-20</th>\n",
       "      <td>227.309998</td>\n",
       "      <td>225.970001</td>\n",
       "      <td>226.699997</td>\n",
       "      <td>226.740005</td>\n",
       "      <td>129168600.0</td>\n",
       "      <td>207.520355</td>\n",
       "    </tr>\n",
       "    <tr>\n",
       "      <th>2017-01-23</th>\n",
       "      <td>226.809998</td>\n",
       "      <td>225.270004</td>\n",
       "      <td>226.740005</td>\n",
       "      <td>226.149994</td>\n",
       "      <td>75061600.0</td>\n",
       "      <td>206.980392</td>\n",
       "    </tr>\n",
       "  </tbody>\n",
       "</table>\n",
       "</div>"
      ],
      "text/plain": [
       "                  High         Low        Open       Close       Volume  \\\n",
       "Date                                                                      \n",
       "2017-01-17  226.779999  225.800003  226.309998  226.250000   61240800.0   \n",
       "2017-01-18  226.800003  225.899994  226.539993  226.750000   54793300.0   \n",
       "2017-01-19  227.000000  225.410004  226.839996  225.910004   66608800.0   \n",
       "2017-01-20  227.309998  225.970001  226.699997  226.740005  129168600.0   \n",
       "2017-01-23  226.809998  225.270004  226.740005  226.149994   75061600.0   \n",
       "\n",
       "             Adj Close  \n",
       "Date                    \n",
       "2017-01-17  207.071930  \n",
       "2017-01-18  207.529510  \n",
       "2017-01-19  206.760742  \n",
       "2017-01-20  207.520355  \n",
       "2017-01-23  206.980392  "
      ]
     },
     "execution_count": 26,
     "metadata": {},
     "output_type": "execute_result"
    }
   ],
   "source": [
    "spy_etf.head()"
   ]
  },
  {
   "cell_type": "code",
   "execution_count": 27,
   "id": "58f45990",
   "metadata": {},
   "outputs": [],
   "source": [
    "start = pd.to_datetime('2017-01-18')\n",
    "end = pd.to_datetime('2022-01-18')"
   ]
  },
  {
   "cell_type": "code",
   "execution_count": 28,
   "id": "c8c22831",
   "metadata": {},
   "outputs": [],
   "source": [
    "aapl = web.DataReader('AAPL', 'yahoo', start, end)"
   ]
  },
  {
   "cell_type": "code",
   "execution_count": 29,
   "id": "658621b2",
   "metadata": {},
   "outputs": [
    {
     "data": {
      "text/html": [
       "<div>\n",
       "<style scoped>\n",
       "    .dataframe tbody tr th:only-of-type {\n",
       "        vertical-align: middle;\n",
       "    }\n",
       "\n",
       "    .dataframe tbody tr th {\n",
       "        vertical-align: top;\n",
       "    }\n",
       "\n",
       "    .dataframe thead th {\n",
       "        text-align: right;\n",
       "    }\n",
       "</style>\n",
       "<table border=\"1\" class=\"dataframe\">\n",
       "  <thead>\n",
       "    <tr style=\"text-align: right;\">\n",
       "      <th></th>\n",
       "      <th>High</th>\n",
       "      <th>Low</th>\n",
       "      <th>Open</th>\n",
       "      <th>Close</th>\n",
       "      <th>Volume</th>\n",
       "      <th>Adj Close</th>\n",
       "    </tr>\n",
       "    <tr>\n",
       "      <th>Date</th>\n",
       "      <th></th>\n",
       "      <th></th>\n",
       "      <th></th>\n",
       "      <th></th>\n",
       "      <th></th>\n",
       "      <th></th>\n",
       "    </tr>\n",
       "  </thead>\n",
       "  <tbody>\n",
       "    <tr>\n",
       "      <th>2017-01-17</th>\n",
       "      <td>30.059999</td>\n",
       "      <td>29.555000</td>\n",
       "      <td>29.584999</td>\n",
       "      <td>30.000000</td>\n",
       "      <td>137759200.0</td>\n",
       "      <td>28.238453</td>\n",
       "    </tr>\n",
       "    <tr>\n",
       "      <th>2017-01-18</th>\n",
       "      <td>30.125000</td>\n",
       "      <td>29.927500</td>\n",
       "      <td>30.000000</td>\n",
       "      <td>29.997499</td>\n",
       "      <td>94852000.0</td>\n",
       "      <td>28.236097</td>\n",
       "    </tr>\n",
       "    <tr>\n",
       "      <th>2017-01-19</th>\n",
       "      <td>30.022499</td>\n",
       "      <td>29.842501</td>\n",
       "      <td>29.850000</td>\n",
       "      <td>29.945000</td>\n",
       "      <td>102389200.0</td>\n",
       "      <td>28.186686</td>\n",
       "    </tr>\n",
       "    <tr>\n",
       "      <th>2017-01-20</th>\n",
       "      <td>30.112499</td>\n",
       "      <td>29.932501</td>\n",
       "      <td>30.112499</td>\n",
       "      <td>30.000000</td>\n",
       "      <td>130391600.0</td>\n",
       "      <td>28.238453</td>\n",
       "    </tr>\n",
       "    <tr>\n",
       "      <th>2017-01-23</th>\n",
       "      <td>30.202499</td>\n",
       "      <td>29.942499</td>\n",
       "      <td>30.000000</td>\n",
       "      <td>30.020000</td>\n",
       "      <td>88200800.0</td>\n",
       "      <td>28.257278</td>\n",
       "    </tr>\n",
       "  </tbody>\n",
       "</table>\n",
       "</div>"
      ],
      "text/plain": [
       "                 High        Low       Open      Close       Volume  Adj Close\n",
       "Date                                                                          \n",
       "2017-01-17  30.059999  29.555000  29.584999  30.000000  137759200.0  28.238453\n",
       "2017-01-18  30.125000  29.927500  30.000000  29.997499   94852000.0  28.236097\n",
       "2017-01-19  30.022499  29.842501  29.850000  29.945000  102389200.0  28.186686\n",
       "2017-01-20  30.112499  29.932501  30.112499  30.000000  130391600.0  28.238453\n",
       "2017-01-23  30.202499  29.942499  30.000000  30.020000   88200800.0  28.257278"
      ]
     },
     "execution_count": 29,
     "metadata": {},
     "output_type": "execute_result"
    }
   ],
   "source": [
    "aapl.head()"
   ]
  },
  {
   "cell_type": "code",
   "execution_count": 30,
   "id": "62d37795",
   "metadata": {},
   "outputs": [],
   "source": [
    "import matplotlib.pyplot as plt \n",
    "%matplotlib inline "
   ]
  },
  {
   "cell_type": "code",
   "execution_count": 31,
   "id": "5dde8c2a",
   "metadata": {},
   "outputs": [
    {
     "data": {
      "text/plain": [
       "<matplotlib.legend.Legend at 0x26e26a0ea30>"
      ]
     },
     "execution_count": 31,
     "metadata": {},
     "output_type": "execute_result"
    },
    {
     "data": {
      "image/png": "[encoded data removed]",
      "text/plain": [
       "<Figure size 720x576 with 1 Axes>"
      ]
     },
     "metadata": {
      "needs_background": "light"
     },
     "output_type": "display_data"
    }
   ],
   "source": [
    "aapl['Close'].plot(label = 'AAPL', figsize=(10,8))\n",
    "spy_etf['Close'].plot(label = 'SPY Index')\n",
    "plt.legend()"
   ]
  },
  {
   "cell_type": "code",
   "execution_count": 32,
   "id": "5fa47628",
   "metadata": {},
   "outputs": [],
   "source": [
    "aapl['Cumulative'] = aapl['Close']/aapl['Close'].iloc[0]\n",
    "spy_etf['Cumulative'] = spy_etf['Close']/spy_etf['Close'].iloc[0]"
   ]
  },
  {
   "cell_type": "code",
   "execution_count": 33,
   "id": "e93076bf",
   "metadata": {},
   "outputs": [
    {
     "data": {
      "text/plain": [
       "<matplotlib.legend.Legend at 0x26e25b0b7c0>"
      ]
     },
     "execution_count": 33,
     "metadata": {},
     "output_type": "execute_result"
    },
    {
     "data": {
      "image/png": "[encoded data removed]",
      "text/plain": [
       "<Figure size 720x576 with 1 Axes>"
      ]
     },
     "metadata": {
      "needs_background": "light"
     },
     "output_type": "display_data"
    }
   ],
   "source": [
    "aapl['Cumulative'].plot(label = 'AAPL', figsize=(10,8))\n",
    "spy_etf['Cumulative'].plot(label = 'SPY')\n",
    "plt.legend()"
   ]
  },
  {
   "cell_type": "code",
   "execution_count": 34,
   "id": "f04568c3",
   "metadata": {},
   "outputs": [],
   "source": [
    "aapl['Daily Return'] = aapl['Close'].pct_change(1)\n",
    "spy_etf['Daily Return'] = spy_etf['Close'].pct_change(1)"
   ]
  },
  {
   "cell_type": "code",
   "execution_count": 36,
   "id": "ef97319a",
   "metadata": {},
   "outputs": [
    {
     "data": {
      "text/plain": [
       "<matplotlib.collections.PathCollection at 0x26e27046130>"
      ]
     },
     "execution_count": 36,
     "metadata": {},
     "output_type": "execute_result"
    },
    {
     "data": {
      "image/png": "[encoded data removed]",
      "text/plain": [
       "<Figure size 432x288 with 1 Axes>"
      ]
     },
     "metadata": {
      "needs_background": "light"
     },
     "output_type": "display_data"
    }
   ],
   "source": [
    "plt.scatter(aapl['Daily Return'], spy_etf['Daily Return'], alpha=0.25)"
   ]
  },
  {
   "cell_type": "code",
   "execution_count": 38,
   "id": "d426ed0e",
   "metadata": {},
   "outputs": [],
   "source": [
    "beta, alpha, r_value, p_value, std_err = stats.linregress(aapl['Daily Return'].iloc[1:], spy_etf['Daily Return'].iloc[1:]) "
   ]
  },
  {
   "cell_type": "code",
   "execution_count": 39,
   "id": "73f9a6b5",
   "metadata": {},
   "outputs": [
    {
     "data": {
      "text/plain": [
       "0.4746471940574115"
      ]
     },
     "execution_count": 39,
     "metadata": {},
     "output_type": "execute_result"
    }
   ],
   "source": [
    "beta"
   ]
  },
  {
   "cell_type": "code",
   "execution_count": 40,
   "id": "e933cc7b",
   "metadata": {},
   "outputs": [
    {
     "data": {
      "text/plain": [
       "-0.00011197713819464006"
      ]
     },
     "execution_count": 40,
     "metadata": {},
     "output_type": "execute_result"
    }
   ],
   "source": [
    "alpha"
   ]
  },
  {
   "cell_type": "code",
   "execution_count": 41,
   "id": "d5e82816",
   "metadata": {},
   "outputs": [
    {
     "data": {
      "text/plain": [
       "0.763653945747209"
      ]
     },
     "execution_count": 41,
     "metadata": {},
     "output_type": "execute_result"
    }
   ],
   "source": [
    " r_value"
   ]
  },
  {
   "cell_type": "code",
   "execution_count": 44,
   "id": "aad96121",
   "metadata": {},
   "outputs": [
    {
     "data": {
      "text/plain": [
       "Date\n",
       "2017-01-17         NaN\n",
       "2017-01-18    0.002210\n",
       "2017-01-19   -0.003705\n",
       "2017-01-20    0.003674\n",
       "2017-01-23   -0.002602\n",
       "Name: Daily Return, dtype: float64"
      ]
     },
     "execution_count": 44,
     "metadata": {},
     "output_type": "execute_result"
    }
   ],
   "source": [
    "spy_etf['Daily Return'].head()"
   ]
  },
  {
   "cell_type": "code",
   "execution_count": 45,
   "id": "d392e85e",
   "metadata": {},
   "outputs": [],
   "source": [
    "noise = np.random.normal(0, 0.001, len(spy_etf['Daily Return'].iloc[1:]))"
   ]
  },
  {
   "cell_type": "code",
   "execution_count": 46,
   "id": "f5c6b185",
   "metadata": {},
   "outputs": [
    {
     "data": {
      "text/plain": [
       "array([-8.43578447e-06, -3.17685586e-04,  7.91080093e-04, ...,\n",
       "       -1.61964344e-03, -8.13922441e-04,  7.01055689e-05])"
      ]
     },
     "execution_count": 46,
     "metadata": {},
     "output_type": "execute_result"
    }
   ],
   "source": [
    "noise"
   ]
  },
  {
   "cell_type": "code",
   "execution_count": 49,
   "id": "f76afd74",
   "metadata": {},
   "outputs": [],
   "source": [
    "fake_stock = spy_etf['Daily Return'].iloc[1:] + noise"
   ]
  },
  {
   "cell_type": "code",
   "execution_count": 51,
   "id": "6d0c196f",
   "metadata": {},
   "outputs": [
    {
     "data": {
      "text/plain": [
       "<matplotlib.collections.PathCollection at 0x26e270ff580>"
      ]
     },
     "execution_count": 51,
     "metadata": {},
     "output_type": "execute_result"
    },
    {
     "data": {
      "image/png": "[encoded data removed]",
      "text/plain": [
       "<Figure size 432x288 with 1 Axes>"
      ]
     },
     "metadata": {
      "needs_background": "light"
     },
     "output_type": "display_data"
    }
   ],
   "source": [
    "plt.scatter(fake_stock, spy_etf['Daily Return'].iloc[1:], alpha=0.25)"
   ]
  },
  {
   "cell_type": "code",
   "execution_count": 52,
   "id": "69d1cbc3",
   "metadata": {},
   "outputs": [],
   "source": [
    "beta, alpha, r_value, p_value, std_err = stats.linregress(fake_stock, spy_etf['Daily Return'].iloc[1:])"
   ]
  },
  {
   "cell_type": "code",
   "execution_count": 53,
   "id": "b943cf4d",
   "metadata": {},
   "outputs": [
    {
     "data": {
      "text/plain": [
       "0.9936288248092394"
      ]
     },
     "execution_count": 53,
     "metadata": {},
     "output_type": "execute_result"
    }
   ],
   "source": [
    "beta"
   ]
  },
  {
   "cell_type": "code",
   "execution_count": 54,
   "id": "d15c3ca0",
   "metadata": {},
   "outputs": [
    {
     "data": {
      "text/plain": [
       "6.934050604339294e-06"
      ]
     },
     "execution_count": 54,
     "metadata": {},
     "output_type": "execute_result"
    }
   ],
   "source": [
    "alpha"
   ]
  },
  {
   "cell_type": "code",
   "execution_count": null,
   "id": "942b0427",
   "metadata": {},
   "outputs": [],
   "source": []
  }
 ],
 "metadata": {
  "kernelspec": {
   "display_name": "Python 3 (ipykernel)",
   "language": "python",
   "name": "python3"
  },
  "language_info": {
   "codemirror_mode": {
    "name": "ipython",
    "version": 3
   },
   "file_extension": ".py",
   "mimetype": "text/x-python",
   "name": "python",
   "nbconvert_exporter": "python",
   "pygments_lexer": "ipython3",
   "version": "3.9.7"
  }
 },
 "nbformat": 4,
 "nbformat_minor": 5
}
